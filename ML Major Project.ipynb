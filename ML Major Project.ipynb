{
 "cells": [
  {
   "cell_type": "code",
   "execution_count": 51,
   "metadata": {},
   "outputs": [
    {
     "name": "stdout",
     "output_type": "stream",
     "text": [
      "<class 'pandas.core.frame.DataFrame'>\n",
      "RangeIndex: 20050 entries, 0 to 20049\n",
      "Data columns (total 26 columns):\n",
      " #   Column                 Non-Null Count  Dtype  \n",
      "---  ------                 --------------  -----  \n",
      " 0   _unit_id               20050 non-null  int64  \n",
      " 1   _golden                20050 non-null  bool   \n",
      " 2   _unit_state            20050 non-null  object \n",
      " 3   _trusted_judgments     20050 non-null  int64  \n",
      " 4   _last_judgment_at      20000 non-null  object \n",
      " 5   gender                 19953 non-null  object \n",
      " 6   gender:confidence      20024 non-null  float64\n",
      " 7   profile_yn             20050 non-null  object \n",
      " 8   profile_yn:confidence  20050 non-null  float64\n",
      " 9   created                20050 non-null  object \n",
      " 10  description            16306 non-null  object \n",
      " 11  fav_number             20050 non-null  int64  \n",
      " 12  gender_gold            50 non-null     object \n",
      " 13  link_color             20050 non-null  object \n",
      " 14  name                   20050 non-null  object \n",
      " 15  profile_yn_gold        50 non-null     object \n",
      " 16  profileimage           20050 non-null  object \n",
      " 17  retweet_count          20050 non-null  int64  \n",
      " 18  sidebar_color          20050 non-null  object \n",
      " 19  text                   20050 non-null  object \n",
      " 20  tweet_coord            159 non-null    object \n",
      " 21  tweet_count            20050 non-null  int64  \n",
      " 22  tweet_created          20050 non-null  object \n",
      " 23  tweet_id               20050 non-null  float64\n",
      " 24  tweet_location         12566 non-null  object \n",
      " 25  user_timezone          12252 non-null  object \n",
      "dtypes: bool(1), float64(3), int64(5), object(17)\n",
      "memory usage: 3.8+ MB\n"
     ]
    },
    {
     "data": {
      "text/html": [
       "<div>\n",
       "<style scoped>\n",
       "    .dataframe tbody tr th:only-of-type {\n",
       "        vertical-align: middle;\n",
       "    }\n",
       "\n",
       "    .dataframe tbody tr th {\n",
       "        vertical-align: top;\n",
       "    }\n",
       "\n",
       "    .dataframe thead th {\n",
       "        text-align: right;\n",
       "    }\n",
       "</style>\n",
       "<table border=\"1\" class=\"dataframe\">\n",
       "  <thead>\n",
       "    <tr style=\"text-align: right;\">\n",
       "      <th></th>\n",
       "      <th>_unit_id</th>\n",
       "      <th>_trusted_judgments</th>\n",
       "      <th>gender:confidence</th>\n",
       "      <th>profile_yn:confidence</th>\n",
       "      <th>fav_number</th>\n",
       "      <th>retweet_count</th>\n",
       "      <th>tweet_count</th>\n",
       "      <th>tweet_id</th>\n",
       "    </tr>\n",
       "  </thead>\n",
       "  <tbody>\n",
       "    <tr>\n",
       "      <th>count</th>\n",
       "      <td>2.005000e+04</td>\n",
       "      <td>20050.000000</td>\n",
       "      <td>20024.000000</td>\n",
       "      <td>20050.000000</td>\n",
       "      <td>20050.000000</td>\n",
       "      <td>20050.000000</td>\n",
       "      <td>2.005000e+04</td>\n",
       "      <td>2.005000e+04</td>\n",
       "    </tr>\n",
       "    <tr>\n",
       "      <th>mean</th>\n",
       "      <td>8.157294e+08</td>\n",
       "      <td>3.615711</td>\n",
       "      <td>0.882756</td>\n",
       "      <td>0.993221</td>\n",
       "      <td>4382.201646</td>\n",
       "      <td>0.079401</td>\n",
       "      <td>3.892469e+04</td>\n",
       "      <td>6.587350e+17</td>\n",
       "    </tr>\n",
       "    <tr>\n",
       "      <th>std</th>\n",
       "      <td>6.000801e+03</td>\n",
       "      <td>12.331890</td>\n",
       "      <td>0.191403</td>\n",
       "      <td>0.047168</td>\n",
       "      <td>12518.575919</td>\n",
       "      <td>2.649751</td>\n",
       "      <td>1.168371e+05</td>\n",
       "      <td>5.000124e+12</td>\n",
       "    </tr>\n",
       "    <tr>\n",
       "      <th>min</th>\n",
       "      <td>8.157192e+08</td>\n",
       "      <td>3.000000</td>\n",
       "      <td>0.000000</td>\n",
       "      <td>0.627200</td>\n",
       "      <td>0.000000</td>\n",
       "      <td>0.000000</td>\n",
       "      <td>1.000000e+00</td>\n",
       "      <td>6.587300e+17</td>\n",
       "    </tr>\n",
       "    <tr>\n",
       "      <th>25%</th>\n",
       "      <td>8.157243e+08</td>\n",
       "      <td>3.000000</td>\n",
       "      <td>0.677800</td>\n",
       "      <td>1.000000</td>\n",
       "      <td>11.000000</td>\n",
       "      <td>0.000000</td>\n",
       "      <td>2.398000e+03</td>\n",
       "      <td>6.587300e+17</td>\n",
       "    </tr>\n",
       "    <tr>\n",
       "      <th>50%</th>\n",
       "      <td>8.157294e+08</td>\n",
       "      <td>3.000000</td>\n",
       "      <td>1.000000</td>\n",
       "      <td>1.000000</td>\n",
       "      <td>456.000000</td>\n",
       "      <td>0.000000</td>\n",
       "      <td>1.144150e+04</td>\n",
       "      <td>6.587300e+17</td>\n",
       "    </tr>\n",
       "    <tr>\n",
       "      <th>75%</th>\n",
       "      <td>8.157345e+08</td>\n",
       "      <td>3.000000</td>\n",
       "      <td>1.000000</td>\n",
       "      <td>1.000000</td>\n",
       "      <td>3315.500000</td>\n",
       "      <td>0.000000</td>\n",
       "      <td>4.002750e+04</td>\n",
       "      <td>6.587400e+17</td>\n",
       "    </tr>\n",
       "    <tr>\n",
       "      <th>max</th>\n",
       "      <td>8.157580e+08</td>\n",
       "      <td>274.000000</td>\n",
       "      <td>1.000000</td>\n",
       "      <td>1.000000</td>\n",
       "      <td>341621.000000</td>\n",
       "      <td>330.000000</td>\n",
       "      <td>2.680199e+06</td>\n",
       "      <td>6.587400e+17</td>\n",
       "    </tr>\n",
       "  </tbody>\n",
       "</table>\n",
       "</div>"
      ],
      "text/plain": [
       "           _unit_id  _trusted_judgments  gender:confidence  \\\n",
       "count  2.005000e+04        20050.000000       20024.000000   \n",
       "mean   8.157294e+08            3.615711           0.882756   \n",
       "std    6.000801e+03           12.331890           0.191403   \n",
       "min    8.157192e+08            3.000000           0.000000   \n",
       "25%    8.157243e+08            3.000000           0.677800   \n",
       "50%    8.157294e+08            3.000000           1.000000   \n",
       "75%    8.157345e+08            3.000000           1.000000   \n",
       "max    8.157580e+08          274.000000           1.000000   \n",
       "\n",
       "       profile_yn:confidence     fav_number  retweet_count   tweet_count  \\\n",
       "count           20050.000000   20050.000000   20050.000000  2.005000e+04   \n",
       "mean                0.993221    4382.201646       0.079401  3.892469e+04   \n",
       "std                 0.047168   12518.575919       2.649751  1.168371e+05   \n",
       "min                 0.627200       0.000000       0.000000  1.000000e+00   \n",
       "25%                 1.000000      11.000000       0.000000  2.398000e+03   \n",
       "50%                 1.000000     456.000000       0.000000  1.144150e+04   \n",
       "75%                 1.000000    3315.500000       0.000000  4.002750e+04   \n",
       "max                 1.000000  341621.000000     330.000000  2.680199e+06   \n",
       "\n",
       "           tweet_id  \n",
       "count  2.005000e+04  \n",
       "mean   6.587350e+17  \n",
       "std    5.000124e+12  \n",
       "min    6.587300e+17  \n",
       "25%    6.587300e+17  \n",
       "50%    6.587300e+17  \n",
       "75%    6.587400e+17  \n",
       "max    6.587400e+17  "
      ]
     },
     "execution_count": 51,
     "metadata": {},
     "output_type": "execute_result"
    }
   ],
   "source": [
    "import pandas as pd\n",
    "import numpy as np\n",
    "\n",
    "df = pd.read_csv('Information.csv')\n",
    "\n",
    "#visualizing the data\n",
    "df.info()\n",
    "df.describe()"
   ]
  },
  {
   "cell_type": "code",
   "execution_count": 52,
   "metadata": {},
   "outputs": [
    {
     "name": "stdout",
     "output_type": "stream",
     "text": [
      "<class 'pandas.core.frame.DataFrame'>\n",
      "Int64Index: 6108 entries, 0 to 19995\n",
      "Data columns (total 12 columns):\n",
      " #   Column             Non-Null Count  Dtype  \n",
      "---  ------             --------------  -----  \n",
      " 0   _last_judgment_at  6108 non-null   object \n",
      " 1   gender             6108 non-null   object \n",
      " 2   gender:confidence  6108 non-null   float64\n",
      " 3   created            6108 non-null   object \n",
      " 4   description        6108 non-null   object \n",
      " 5   fav_number         6108 non-null   int64  \n",
      " 6   link_color         6108 non-null   object \n",
      " 7   name               6108 non-null   object \n",
      " 8   sidebar_color      6108 non-null   object \n",
      " 9   text               6108 non-null   object \n",
      " 10  tweet_count        6108 non-null   int64  \n",
      " 11  user_timezone      6108 non-null   object \n",
      "dtypes: float64(1), int64(2), object(9)\n",
      "memory usage: 620.3+ KB\n"
     ]
    },
    {
     "data": {
      "text/html": [
       "<div>\n",
       "<style scoped>\n",
       "    .dataframe tbody tr th:only-of-type {\n",
       "        vertical-align: middle;\n",
       "    }\n",
       "\n",
       "    .dataframe tbody tr th {\n",
       "        vertical-align: top;\n",
       "    }\n",
       "\n",
       "    .dataframe thead th {\n",
       "        text-align: right;\n",
       "    }\n",
       "</style>\n",
       "<table border=\"1\" class=\"dataframe\">\n",
       "  <thead>\n",
       "    <tr style=\"text-align: right;\">\n",
       "      <th></th>\n",
       "      <th>gender:confidence</th>\n",
       "      <th>fav_number</th>\n",
       "      <th>tweet_count</th>\n",
       "    </tr>\n",
       "  </thead>\n",
       "  <tbody>\n",
       "    <tr>\n",
       "      <th>count</th>\n",
       "      <td>6108.0</td>\n",
       "      <td>6108.000000</td>\n",
       "      <td>6.108000e+03</td>\n",
       "    </tr>\n",
       "    <tr>\n",
       "      <th>mean</th>\n",
       "      <td>1.0</td>\n",
       "      <td>6466.656516</td>\n",
       "      <td>3.494261e+04</td>\n",
       "    </tr>\n",
       "    <tr>\n",
       "      <th>std</th>\n",
       "      <td>0.0</td>\n",
       "      <td>14308.402548</td>\n",
       "      <td>7.805760e+04</td>\n",
       "    </tr>\n",
       "    <tr>\n",
       "      <th>min</th>\n",
       "      <td>1.0</td>\n",
       "      <td>0.000000</td>\n",
       "      <td>1.000000e+00</td>\n",
       "    </tr>\n",
       "    <tr>\n",
       "      <th>25%</th>\n",
       "      <td>1.0</td>\n",
       "      <td>294.000000</td>\n",
       "      <td>4.546000e+03</td>\n",
       "    </tr>\n",
       "    <tr>\n",
       "      <th>50%</th>\n",
       "      <td>1.0</td>\n",
       "      <td>1674.500000</td>\n",
       "      <td>1.406500e+04</td>\n",
       "    </tr>\n",
       "    <tr>\n",
       "      <th>75%</th>\n",
       "      <td>1.0</td>\n",
       "      <td>6485.000000</td>\n",
       "      <td>3.800100e+04</td>\n",
       "    </tr>\n",
       "    <tr>\n",
       "      <th>max</th>\n",
       "      <td>1.0</td>\n",
       "      <td>341621.000000</td>\n",
       "      <td>2.680199e+06</td>\n",
       "    </tr>\n",
       "  </tbody>\n",
       "</table>\n",
       "</div>"
      ],
      "text/plain": [
       "       gender:confidence     fav_number   tweet_count\n",
       "count             6108.0    6108.000000  6.108000e+03\n",
       "mean                 1.0    6466.656516  3.494261e+04\n",
       "std                  0.0   14308.402548  7.805760e+04\n",
       "min                  1.0       0.000000  1.000000e+00\n",
       "25%                  1.0     294.000000  4.546000e+03\n",
       "50%                  1.0    1674.500000  1.406500e+04\n",
       "75%                  1.0    6485.000000  3.800100e+04\n",
       "max                  1.0  341621.000000  2.680199e+06"
      ]
     },
     "execution_count": 52,
     "metadata": {},
     "output_type": "execute_result"
    }
   ],
   "source": [
    "#keeping rows whose 'gender:confidence' value is >0.99\n",
    "df = df[df['gender:confidence'] > 0.99]\n",
    "\n",
    "#keeping only male and female genders\n",
    "df = df[df['gender'].isin(['male', 'female'])]\n",
    "\n",
    "#dropping all rows that either contain similar values or are unnecessary\n",
    "df = df.drop(['_unit_id','_golden','_unit_state','_trusted_judgments','profile_yn','profile_yn:confidence','gender_gold','profile_yn_gold','profileimage','retweet_count','tweet_created','tweet_coord','tweet_id','tweet_location'],axis =1)\n",
    "\n",
    "#dropping all null values\n",
    "df_filtered = df.dropna(how='any',axis=0)\n",
    "\n",
    "#visualizing the cleaned data\n",
    "df_filtered.info()\n",
    "df_filtered.describe()"
   ]
  },
  {
   "cell_type": "code",
   "execution_count": 53,
   "metadata": {},
   "outputs": [
    {
     "name": "stderr",
     "output_type": "stream",
     "text": [
      "<ipython-input-53-029a1274cea5>:19: SettingWithCopyWarning: \n",
      "A value is trying to be set on a copy of a slice from a DataFrame.\n",
      "Try using .loc[row_indexer,col_indexer] = value instead\n",
      "\n",
      "See the caveats in the documentation: https://pandas.pydata.org/pandas-docs/stable/user_guide/indexing.html#returning-a-view-versus-a-copy\n",
      "  df_filtered['typos'] = df_filtered['text'].apply(lambda x: len(spell.unknown(tokenizer.tokenize(remove_mention_url(x)))))\n"
     ]
    },
    {
     "data": {
      "text/plain": [
       "0        0\n",
       "1        2\n",
       "3        1\n",
       "5        0\n",
       "9        0\n",
       "        ..\n",
       "19989    0\n",
       "19990    1\n",
       "19993    0\n",
       "19994    0\n",
       "19995    0\n",
       "Name: typos, Length: 6108, dtype: int64"
      ]
     },
     "execution_count": 53,
     "metadata": {},
     "output_type": "execute_result"
    }
   ],
   "source": [
    "from spellchecker import SpellChecker\n",
    "from nltk.tokenize import RegexpTokenizer\n",
    "\n",
    "#these functions will check each word for spelling errors\n",
    "spell = SpellChecker()\n",
    "tokenizer = RegexpTokenizer(r'\\w+')\n",
    "\n",
    "#function for removing urls, hashtags and mentions\n",
    "def remove_mention_url(text):\n",
    "    clean = []\n",
    "    words = text.split()\n",
    "    for word in words:\n",
    "        if not word.startswith('@') and not word.startswith('http') and not word.startswith('www') and not word.startswith('#'):\n",
    "            clean.append(word)\n",
    "    return ' '.join(clean)\n",
    "\n",
    "\n",
    "#creating a new column 'typos' which stores the number of typos in each tweet\n",
    "df_filtered['typos'] = df_filtered['text'].apply(lambda x: len(spell.unknown(tokenizer.tokenize(remove_mention_url(x)))))\n",
    "\n",
    "df_filtered['typos']"
   ]
  },
  {
   "cell_type": "code",
   "execution_count": 54,
   "metadata": {},
   "outputs": [
    {
     "name": "stdout",
     "output_type": "stream",
     "text": [
      "typos    0.829219\n",
      "dtype: float64\n",
      "typos    0.928594\n",
      "dtype: float64\n"
     ]
    }
   ],
   "source": [
    "#filtering out all the typos written by males\n",
    "df_male = df_filtered[df_filtered['gender'] == 'male']\n",
    "df_male_typos = pd.DataFrame(df_male,columns=['typos'])\n",
    "\n",
    "#calculating average number of typos in tweets by males\n",
    "av_male_typos = df_male_typos.mean(axis=0)\n",
    "print (av_male_typos)\n",
    "\n",
    "#filtering out all the typos written by females\n",
    "df_female = df_filtered[df_filtered['gender'] == 'female']\n",
    "df_female_typos = pd.DataFrame(df_female,columns=['typos'])\n",
    "\n",
    "#calculating average number of typos in tweets by females\n",
    "av_female_typos = df_female_typos.mean(axis=0)\n",
    "print (av_female_typos)"
   ]
  },
  {
   "cell_type": "code",
   "execution_count": 55,
   "metadata": {},
   "outputs": [
    {
     "data": {
      "text/plain": [
       "C0DEED    871\n",
       "FFFFFF    727\n",
       "0         644\n",
       "EEEEEE    179\n",
       "181A1E    115\n",
       "         ... \n",
       "F50A29      1\n",
       "44EBA8      1\n",
       "892DD8      1\n",
       "161C1A      1\n",
       "93BB4B      1\n",
       "Name: sidebar_color, Length: 140, dtype: int64"
      ]
     },
     "execution_count": 55,
     "metadata": {},
     "output_type": "execute_result"
    }
   ],
   "source": [
    "#finding out the most common sidebar colour for male entries\n",
    "df_male = df_filtered[df_filtered['gender'] == 'male']\n",
    "df_male['sidebar_color'].value_counts()"
   ]
  },
  {
   "cell_type": "code",
   "execution_count": 56,
   "metadata": {},
   "outputs": [
    {
     "data": {
      "text/plain": [
       "FFFFFF    989\n",
       "0         805\n",
       "C0DEED    545\n",
       "EEEEEE    138\n",
       "65B0DA     79\n",
       "         ... \n",
       "8F1344      1\n",
       "F7F2F4      1\n",
       "F0E661      1\n",
       "FF00E1      1\n",
       "070A09      1\n",
       "Name: sidebar_color, Length: 215, dtype: int64"
      ]
     },
     "execution_count": 56,
     "metadata": {},
     "output_type": "execute_result"
    }
   ],
   "source": [
    "#finding out the most common sidebar colour for female entries\n",
    "df_female = df_filtered[df_filtered['gender'] == 'female']\n",
    "df_female['sidebar_color'].value_counts()"
   ]
  },
  {
   "cell_type": "code",
   "execution_count": 57,
   "metadata": {},
   "outputs": [
    {
     "name": "stderr",
     "output_type": "stream",
     "text": [
      "<ipython-input-57-6bcea8f7b7b6>:23: SettingWithCopyWarning: \n",
      "A value is trying to be set on a copy of a slice from a DataFrame\n",
      "\n",
      "See the caveats in the documentation: https://pandas.pydata.org/pandas-docs/stable/user_guide/indexing.html#returning-a-view-versus-a-copy\n",
      "  df.dropna(subset=['text', 'description'], inplace=True)\n",
      "<ipython-input-57-6bcea8f7b7b6>:24: SettingWithCopyWarning: \n",
      "A value is trying to be set on a copy of a slice from a DataFrame.\n",
      "Try using .loc[row_indexer,col_indexer] = value instead\n",
      "\n",
      "See the caveats in the documentation: https://pandas.pydata.org/pandas-docs/stable/user_guide/indexing.html#returning-a-view-versus-a-copy\n",
      "  df['text_normalized'] = df['text'].apply(lambda x: ' '.join(tokenizer.tokenize(remove_url(x))))\n",
      "<ipython-input-57-6bcea8f7b7b6>:25: SettingWithCopyWarning: \n",
      "A value is trying to be set on a copy of a slice from a DataFrame.\n",
      "Try using .loc[row_indexer,col_indexer] = value instead\n",
      "\n",
      "See the caveats in the documentation: https://pandas.pydata.org/pandas-docs/stable/user_guide/indexing.html#returning-a-view-versus-a-copy\n",
      "  df['description'] = df['description'].astype(str)\n",
      "<ipython-input-57-6bcea8f7b7b6>:26: SettingWithCopyWarning: \n",
      "A value is trying to be set on a copy of a slice from a DataFrame.\n",
      "Try using .loc[row_indexer,col_indexer] = value instead\n",
      "\n",
      "See the caveats in the documentation: https://pandas.pydata.org/pandas-docs/stable/user_guide/indexing.html#returning-a-view-versus-a-copy\n",
      "  df['description_normalized'] = df['description'].apply(lambda x: ' '.join(tokenizer.tokenize(remove_url(x))))\n",
      "<ipython-input-57-6bcea8f7b7b6>:27: SettingWithCopyWarning: \n",
      "A value is trying to be set on a copy of a slice from a DataFrame.\n",
      "Try using .loc[row_indexer,col_indexer] = value instead\n",
      "\n",
      "See the caveats in the documentation: https://pandas.pydata.org/pandas-docs/stable/user_guide/indexing.html#returning-a-view-versus-a-copy\n",
      "  df['all_text_features'] = df['text_normalized'].str.cat(df['description_normalized'], sep=' ')\n"
     ]
    }
   ],
   "source": [
    "from spellchecker import SpellChecker\n",
    "from nltk.tokenize import RegexpTokenizer\n",
    "\n",
    "spell = SpellChecker()\n",
    "tokenizer = RegexpTokenizer(r'\\w+')\n",
    "\n",
    "# function that will remove URLs and keep only words, mentions and hashtags\n",
    "\n",
    "def remove_url(text):\n",
    "    clean = []\n",
    "    if text == None:\n",
    "        return\n",
    "    words = text.split()\n",
    "    for word in words:\n",
    "        if not word.startswith('http') and not word.startswith('www'):\n",
    "            clean.append(word)\n",
    "    return ' '.join(clean)\n",
    "\n",
    "\n",
    "#function that will clean the 'text' and 'description' columns and concatenate them into a single column\n",
    "\n",
    "def data_prep_for_nb(df):\n",
    "    df.dropna(subset=['text', 'description'], inplace=True)\n",
    "    df['text_normalized'] = df['text'].apply(lambda x: ' '.join(tokenizer.tokenize(remove_url(x))))\n",
    "    df['description'] = df['description'].astype(str)\n",
    "    df['description_normalized'] = df['description'].apply(lambda x: ' '.join(tokenizer.tokenize(remove_url(x))))\n",
    "    df['all_text_features'] = df['text_normalized'].str.cat(df['description_normalized'], sep=' ')\n",
    "    df['all_text_features']\n",
    "\n",
    "data_prep_for_nb(df_filtered)    "
   ]
  },
  {
   "cell_type": "code",
   "execution_count": 58,
   "metadata": {},
   "outputs": [],
   "source": [
    "from sklearn.preprocessing import LabelEncoder\n",
    "encoder = LabelEncoder()\n",
    "\n",
    "# function for transforming documents into counts\n",
    "from sklearn.feature_extraction.text import CountVectorizer\n",
    "\n",
    "vectorizer = CountVectorizer(stop_words='english')\n",
    "\n",
    "#transforming 'all_text_features' into a sparse matrix \n",
    "x = vectorizer.fit_transform(df_filtered['all_text_features'])\n",
    "\n",
    "#running LabelEncoder function on 'gender'\n",
    "y = encoder.fit_transform(df_filtered['gender'])\n",
    "\n",
    "#splitting the data\n",
    "\n",
    "from sklearn.model_selection import train_test_split\n",
    "\n",
    "x_train, x_test, y_train, y_test = train_test_split(x, y)"
   ]
  },
  {
   "cell_type": "code",
   "execution_count": 59,
   "metadata": {},
   "outputs": [
    {
     "name": "stdout",
     "output_type": "stream",
     "text": [
      "0.679109364767518\n"
     ]
    }
   ],
   "source": [
    "from sklearn.naive_bayes import MultinomialNB\n",
    "\n",
    "#running Naive-Bayes algorithm with the given data\n",
    "nb = MultinomialNB()\n",
    "nb.fit(x_train, y_train)\n",
    "\n",
    "#printing the accuracy of the model\n",
    "print(nb.score(x_test, y_test))"
   ]
  },
  {
   "cell_type": "code",
   "execution_count": 60,
   "metadata": {},
   "outputs": [
    {
     "name": "stderr",
     "output_type": "stream",
     "text": [
      "<ipython-input-60-81842263c8b0>:5: SettingWithCopyWarning: \n",
      "A value is trying to be set on a copy of a slice from a DataFrame.\n",
      "Try using .loc[row_indexer,col_indexer] = value instead\n",
      "\n",
      "See the caveats in the documentation: https://pandas.pydata.org/pandas-docs/stable/user_guide/indexing.html#returning-a-view-versus-a-copy\n",
      "  df_filtered['link_color_e'] = link_color_encoder.fit_transform(df_filtered['link_color'])\n",
      "<ipython-input-60-81842263c8b0>:6: SettingWithCopyWarning: \n",
      "A value is trying to be set on a copy of a slice from a DataFrame.\n",
      "Try using .loc[row_indexer,col_indexer] = value instead\n",
      "\n",
      "See the caveats in the documentation: https://pandas.pydata.org/pandas-docs/stable/user_guide/indexing.html#returning-a-view-versus-a-copy\n",
      "  df_filtered['sidebar_color_e'] = sidebar_color_encoder.fit_transform(df_filtered['sidebar_color'])\n",
      "<ipython-input-60-81842263c8b0>:11: SettingWithCopyWarning: \n",
      "A value is trying to be set on a copy of a slice from a DataFrame.\n",
      "Try using .loc[row_indexer,col_indexer] = value instead\n",
      "\n",
      "See the caveats in the documentation: https://pandas.pydata.org/pandas-docs/stable/user_guide/indexing.html#returning-a-view-versus-a-copy\n",
      "  df_filtered['user_timezone'] = df_filtered['user_timezone'].astype(str)\n",
      "<ipython-input-60-81842263c8b0>:14: SettingWithCopyWarning: \n",
      "A value is trying to be set on a copy of a slice from a DataFrame.\n",
      "Try using .loc[row_indexer,col_indexer] = value instead\n",
      "\n",
      "See the caveats in the documentation: https://pandas.pydata.org/pandas-docs/stable/user_guide/indexing.html#returning-a-view-versus-a-copy\n",
      "  df_filtered['user_timezone_e'] = timezone_encoder.fit_transform(df_filtered['user_timezone'])\n"
     ]
    }
   ],
   "source": [
    "link_color_encoder = LabelEncoder()\n",
    "sidebar_color_encoder = LabelEncoder()\n",
    "\n",
    "#running LabelEncoder function on 'link_color' and 'sidebar_color' columns\n",
    "df_filtered['link_color_e'] = link_color_encoder.fit_transform(df_filtered['link_color'])\n",
    "df_filtered['sidebar_color_e'] = sidebar_color_encoder.fit_transform(df_filtered['sidebar_color'])\n",
    "\n",
    "timezone_encoder = LabelEncoder()\n",
    "\n",
    "#forcibly changing all entries in 'user_timezone' column to string\n",
    "df_filtered['user_timezone'] = df_filtered['user_timezone'].astype(str)\n",
    "\n",
    "#running LabelEncoder function on 'user_timezone' column\n",
    "df_filtered['user_timezone_e'] = timezone_encoder.fit_transform(df_filtered['user_timezone'])\n",
    "\n",
    "from sklearn.model_selection import train_test_split\n",
    "\n",
    "#passing independent variables through X\n",
    "X = df_filtered[['typos', 'tweet_count', 'link_color_e', 'sidebar_color_e', 'user_timezone_e']].copy()\n",
    "\n",
    "#passing dependent variable, i.e., gender, through Y\n",
    "Y = df_filtered[['gender']].copy()\n",
    "\n",
    "#splitting the data\n",
    "X_train, X_test, Y_train, Y_test = train_test_split(X, Y)"
   ]
  },
  {
   "cell_type": "code",
   "execution_count": 61,
   "metadata": {},
   "outputs": [
    {
     "name": "stderr",
     "output_type": "stream",
     "text": [
      "C:\\Users\\chaka\\anaconda3\\lib\\site-packages\\sklearn\\utils\\validation.py:73: DataConversionWarning: A column-vector y was passed when a 1d array was expected. Please change the shape of y to (n_samples, ), for example using ravel().\n",
      "  return f(**kwargs)\n"
     ]
    },
    {
     "data": {
      "text/plain": [
       "0.6779802974374961"
      ]
     },
     "execution_count": 61,
     "metadata": {},
     "output_type": "execute_result"
    }
   ],
   "source": [
    "from sklearn.linear_model import LogisticRegression\n",
    "LogReg = LogisticRegression()\n",
    "\n",
    "# training Linear Regression model on training data\n",
    "LogReg.fit(X_train, Y_train)\n",
    "\n",
    "#calculating accuracy of the model in the form of log loss\n",
    "y_pred = LogReg.predict(X_test)\n",
    "ypred_prob = LogReg.predict_proba(X_test)\n",
    "\n",
    "from sklearn.metrics import log_loss\n",
    "log_loss(Y_test, ypred_prob)"
   ]
  },
  {
   "cell_type": "code",
   "execution_count": 62,
   "metadata": {},
   "outputs": [
    {
     "name": "stderr",
     "output_type": "stream",
     "text": [
      "<ipython-input-62-e42f851d2210>:5: DataConversionWarning: A column-vector y was passed when a 1d array was expected. Please change the shape of y to (n_samples,), for example using ravel().\n",
      "  rfc.fit(X_train, Y_train)\n"
     ]
    },
    {
     "name": "stdout",
     "output_type": "stream",
     "text": [
      "Test set Accuracy:  0.610347085789129\n"
     ]
    }
   ],
   "source": [
    "from sklearn.ensemble import RandomForestClassifier\n",
    "rfc = RandomForestClassifier()\n",
    "\n",
    "# training Random Forest Classifier model on training data\n",
    "rfc.fit(X_train, Y_train)\n",
    "\n",
    "# calculating accuracy for the model\n",
    "from sklearn import metrics\n",
    "\n",
    "y_pred = rfc.predict(X_test)\n",
    "print(\"Test set Accuracy: \", metrics.accuracy_score(Y_test, y_pred))"
   ]
  },
  {
   "cell_type": "code",
   "execution_count": 64,
   "metadata": {},
   "outputs": [
    {
     "data": {
      "text/html": [
       "<div>\n",
       "<style scoped>\n",
       "    .dataframe tbody tr th:only-of-type {\n",
       "        vertical-align: middle;\n",
       "    }\n",
       "\n",
       "    .dataframe tbody tr th {\n",
       "        vertical-align: top;\n",
       "    }\n",
       "\n",
       "    .dataframe thead th {\n",
       "        text-align: right;\n",
       "    }\n",
       "</style>\n",
       "<table border=\"1\" class=\"dataframe\">\n",
       "  <thead>\n",
       "    <tr style=\"text-align: right;\">\n",
       "      <th></th>\n",
       "      <th>text</th>\n",
       "      <th>description</th>\n",
       "      <th>tweet_count</th>\n",
       "      <th>sidebar_color</th>\n",
       "      <th>link_color</th>\n",
       "      <th>user_timezone</th>\n",
       "    </tr>\n",
       "  </thead>\n",
       "  <tbody>\n",
       "    <tr>\n",
       "      <th>0</th>\n",
       "      <td>This is greaaat! @apple http://apple.com</td>\n",
       "      <td>ML is wonderful</td>\n",
       "      <td>400</td>\n",
       "      <td>C0DEED</td>\n",
       "      <td>0084B4</td>\n",
       "      <td>Pacific Time (US &amp; Canada)</td>\n",
       "    </tr>\n",
       "  </tbody>\n",
       "</table>\n",
       "</div>"
      ],
      "text/plain": [
       "                                       text      description  tweet_count  \\\n",
       "0  This is greaaat! @apple http://apple.com  ML is wonderful          400   \n",
       "\n",
       "  sidebar_color link_color               user_timezone  \n",
       "0        C0DEED     0084B4  Pacific Time (US & Canada)  "
      ]
     },
     "execution_count": 64,
     "metadata": {},
     "output_type": "execute_result"
    }
   ],
   "source": [
    "# This is the input that's used in MultinomialNB prediction, LogisticRegression prediction and RandomForestClassifier prediction \n",
    "test_row = {'text': ['This is greaaat! @apple http://apple.com'], 'description': ['ML is wonderful'], 'tweet_count': [400], 'sidebar_color': ['C0DEED'], 'link_color': ['0084B4'], 'user_timezone': ['Pacific Time (US & Canada)'] }\n",
    "test_df = pd.DataFrame(data=test_row)\n",
    "test_df"
   ]
  },
  {
   "cell_type": "code",
   "execution_count": 65,
   "metadata": {},
   "outputs": [
    {
     "data": {
      "text/plain": [
       "array(['male'], dtype=object)"
      ]
     },
     "execution_count": 65,
     "metadata": {},
     "output_type": "execute_result"
    }
   ],
   "source": [
    "encoder = LabelEncoder()\n",
    "\n",
    "# predicting the gender using MultinomialNB\n",
    "data_prep_for_nb(test_df)\n",
    "real_test_x = vectorizer.transform(test_df['all_text_features'])\n",
    "real_test_x\n",
    "y_predicted = nb.predict(real_test_x)\n",
    "encoder.inverse_transform(y_predicted)"
   ]
  },
  {
   "cell_type": "code",
   "execution_count": 66,
   "metadata": {},
   "outputs": [],
   "source": [
    "link_color_encoder = LabelEncoder()\n",
    "sidebar_color_encoder = LabelEncoder()\n",
    "timezone_encoder = LabelEncoder()\n",
    "\n",
    "#running LabelEncoder the link_color and sidebar_color columns of test_df \n",
    "test_df['link_color_e'] = link_color_encoder.transform(test_df['link_color'])\n",
    "test_df['sidebar_color_e'] = sidebar_color_encoder.transform(test_df['sidebar_color'])\n",
    "\n",
    "#converting all entries of user_timezone column of test_df to string and then running LabelEncoder function on it \n",
    "test_df['user_timezone'] = test_df['user_timezone'].astype(str)\n",
    "test_df['user_timezone_e'] = timezone_encoder.transform(test_df['user_timezone'])\n",
    "\n",
    "#calculating the number of typos in the text column of test_df\n",
    "test_df['typos'] = test_df['text'].apply(lambda x: len(spell.unknown(tokenizer.tokenize(remove_mention_url(x)))))"
   ]
  },
  {
   "cell_type": "code",
   "execution_count": 67,
   "metadata": {},
   "outputs": [
    {
     "data": {
      "text/plain": [
       "array(['male'], dtype=object)"
      ]
     },
     "execution_count": 67,
     "metadata": {},
     "output_type": "execute_result"
    }
   ],
   "source": [
    "#predicting the data using LogisticRegression\n",
    "df_with_feateng = test_df[['typos', 'tweet_count', 'link_color_e', 'sidebar_color_e', 'user_timezone_e']].copy()\n",
    "LogReg.predict(df_with_feateng)"
   ]
  },
  {
   "cell_type": "code",
   "execution_count": 68,
   "metadata": {},
   "outputs": [
    {
     "data": {
      "text/plain": [
       "array(['female'], dtype=object)"
      ]
     },
     "execution_count": 68,
     "metadata": {},
     "output_type": "execute_result"
    }
   ],
   "source": [
    "#predicting the data using random forest classifier\n",
    "rfc.predict(df_with_feateng)"
   ]
  }
 ],
 "metadata": {
  "kernelspec": {
   "display_name": "Python 3",
   "language": "python",
   "name": "python3"
  },
  "language_info": {
   "codemirror_mode": {
    "name": "ipython",
    "version": 3
   },
   "file_extension": ".py",
   "mimetype": "text/x-python",
   "name": "python",
   "nbconvert_exporter": "python",
   "pygments_lexer": "ipython3",
   "version": "3.8.3"
  }
 },
 "nbformat": 4,
 "nbformat_minor": 4
}
